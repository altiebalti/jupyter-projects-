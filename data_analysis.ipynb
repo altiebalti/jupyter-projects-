{
 "cells": [
  {
   "cell_type": "code",
   "execution_count": 1,
   "id": "a2560e17-8884-4dd4-a270-e2d6319122dd",
   "metadata": {},
   "outputs": [],
   "source": [
    "import matplotlib.pyplot as plt \n",
    "import numpy as np"
   ]
  },
  {
   "cell_type": "code",
   "execution_count": 2,
   "id": "98574d28",
   "metadata": {},
   "outputs": [],
   "source": [
    "def checkReviews(x):\n",
    "    for i in range(1, len(x)):\n",
    "        #print(i)\n",
    "        if (x[i] != \"NaN\"):\n",
    "            return True \n",
    "    return False"
   ]
  },
  {
   "cell_type": "code",
   "execution_count": 3,
   "id": "c0b084c7",
   "metadata": {
    "scrolled": true
   },
   "outputs": [
    {
     "name": "stdout",
     "output_type": "stream",
     "text": [
      "[[0.0, 'MogAri', 0.0, 1988.0, 3631.0, 7.4], [1.0, 'Sø', 0.5, 1991.0, 1825.0, 9.1], [2.0, 'ThePaintedBird', 1.5, 2019.0, 10140.0, 7.3], [3.0, 'TheRailway', 1.5, 1999.0, 3842.0, 5.6], [4.0, 'Priest', 1.5, 2001.0, 7221.0, 5.1], [5.0, 'Paranoised', 2.0, 1990.0, 3632.0, 8.0], [6.0, 'BacktoSwamp', 1.0, 2003.0, 7222.0, 4.9], [7.0, 'PaxAmericana', 0.5, 2003.0, 9129.0, 3.9], [8.0, '소년은울지않는다', 0.0, 2008.0, 5881.0, 5.0], [9.0, 'Antichrist', 0.0, 2009.0, 6480.0, 5.5], [10.0, 'Chamber', 1.5, 1982.0, 1634.0, 6.1], [11.0, 'TheRainbowPassport', 0.0, 2000.0, 4999.0, 7.0], [12.0, 'Hyväntekijä', 0.99, 2010.0, 4140.0, 5.6], [13.0, 'Kuutamosonaatti2:Kadunlakaisijat', 0.99, 1991.0, 5280.0, 5.8], [14.0, 'ZombiejaKummitusjuna', 0.99, 1991.0, 5281.0, 6.8], [15.0, 'Ristilukki', 0.99, 1993.0, 4380.0, 7.1], [18.0, 'めがね', 1.99, 2001.0, 6360.0, 7.1]]\n"
     ]
    }
   ],
   "source": [
    "f = open('movies.data', 'r', encoding=\"utf8\")\n",
    "next(f)\n",
    "next(f)\n",
    "\n",
    "queque = 0\n",
    "isNext = False\n",
    "times_skipped = 0\n",
    "films_data = []\n",
    "users_data = []\n",
    "reviews_data = []\n",
    "\n",
    "for x in f:\n",
    "    x = x.split()\n",
    "    #print(x)\n",
    "    if(isNext):\n",
    "        times_skipped+=1\n",
    "        #print(times_skipped)\n",
    "        if(times_skipped < 3):\n",
    "            #print(\"skip\")\n",
    "            continue\n",
    "        else:\n",
    "            isNext = False\n",
    "            times_skipped = 0\n",
    "    if (x[0] == \"END\"):\n",
    "        #print(queque)\n",
    "        queque+=1;\n",
    "        isNext = True;\n",
    "        continue\n",
    "        #print(x)\n",
    "    #print(\"queque is \" + str(queque))\n",
    "    #print(x)\n",
    "    if (queque==0):\n",
    "        if (not(x[2].replace('.','',1).isdigit())):\n",
    "            x[1] = x[1] + x[2]\n",
    "            if (not(x[3].replace('.','',1).isdigit())): #  while words not ends with /\"\n",
    "                x[1] = x[1] + x[3]\n",
    "                x.pop(3)\n",
    "            x.pop(2)\n",
    "       \n",
    "        if not(x[1] == \"NaN\" or x[3] == \"NaN\" or x[2] == \"NaN\" or x[0] == \"NaN\" or x[4] == \"NaN\" or x[5] ==\"NaN\"):\n",
    "            films_data.append([float(x[0]), x[1].strip('\\\"'), float(x[2]), float(x[3]), float(x[4]), float(x[5])])\n",
    "    elif(queque==1):\n",
    "        #print(x)\n",
    "        if not(x[1] == \"NaN\" or x[3] == \"NaN\" or x[2] == \"NaN\" or x[0] == \"NaN\" or x[4] == \"NaN\"):\n",
    "            \n",
    "            users_data.append([float(x[0]), float(x[1]), float(x[2]), float(x[3]), x[4]])\n",
    "    elif(queque==2):\n",
    "        #print(x)\n",
    "        \n",
    "        if(checkReviews(x)):\n",
    "            reviews_data.append(x)\n",
    "print(films_data)\n",
    "#print(users_data)\n",
    "#print(reviews_data)"
   ]
  },
  {
   "cell_type": "code",
   "execution_count": 6,
   "id": "c1dabb86",
   "metadata": {},
   "outputs": [
    {
     "name": "stdout",
     "output_type": "stream",
     "text": [
      "[[1.0, 43.5, 21.0, 100.0, 'F'], [2.0, 0.0, 42.0, 0.0, 'M'], [3.0, 2.0, 16.0, 3.2, 'M'], [4.0, 9.3, 19.0, 15.99, 'M'], [6.0, 0.1, 35.0, 0.0, 'F'], [7.0, 0.0, 7.0, 0.0, 'M'], [8.0, 1.5, 18.0, 2.5, 'M'], [10.0, 3.2, 56.0, 2.5, 'M'], [11.0, 80.0, 18.0, 188.99, 'M'], [12.0, 1.0, 19.0, 9.99, 'F'], [13.0, 3.6, 51.0, 0.0, 'M'], [14.0, 9.0, 19.0, 151.7, 'F'], [15.0, 120.0, 25.0, 250.77, 'M'], [16.0, 3.3, 50.0, 0.0, 'M'], [18.0, 1.5, 17.0, 1.5, 'M'], [19.0, 30.0, 51.0, 20.05, 'F'], [20.0, 2.7, 35.0, 50.5, 'F'], [23.0, 8.9, 18.0, 10.99, 'M'], [24.0, 9.0, 21.0, 15.99, 'M'], [22.0, 8.0, 36.0, 150.5, 'F'], [77.0, 9.5, 17.0, 0.0, 'M'], [55.0, 40.3, 16.0, 50.5, 'M'], [90.0, 17.0, 17.0, 202.2, 'F'], [91.0, 23.0, 15.0, 10.5, 'M'], [92.0, 20.0, 19.0, 60.5, 'F'], [93.0, 2.0, 57.0, 2.5, 'F'], [95.0, 0.0, 39.0, 0.0, 'M'], [96.0, 15.3, 19.0, 100.99, 'F'], [97.0, 30.3, 23.0, 20.99, 'M'], [98.0, 9.1, 20.0, 19.99, 'M'], [31.0, 80.0, 18.0, 188.99, 'M'], [32.0, 1.5, 18.0, 0.0, 'M'], [33.0, 1.9, 20.0, 2.9, 'M']]\n"
     ]
    }
   ],
   "source": [
    "print(users_data)"
   ]
  },
  {
   "cell_type": "code",
   "execution_count": 7,
   "id": "9b6c82cd",
   "metadata": {},
   "outputs": [
    {
     "name": "stdout",
     "output_type": "stream",
     "text": [
      "[['1', '10', 'NaN', 'NaN', 'NaN', 'NaN', 'NaN', 'NaN', 'NaN', '10', 'NaN', 'NaN', 'NaN', 'NaN', 'NaN', 'NaN', 'NaN', 'NaN', 'NaN', '10'], ['10', 'NaN', 'NaN', 'NaN', 'NaN', 'NaN', 'NaN', 'NaN', '10', 'NaN', 'NaN', 'NaN', 'NaN', 'NaN', 'NaN', 'NaN', 'NaN', 'NaN', 'NaN', 'NaN'], ['12', '7', 'NaN', '8', 'NaN', 'NaN', 'NaN', 'NaN', 'NaN', 'NaN', '9', '10', 'NaN', 'NaN', 'NaN', 'NaN', 'NaN', 'NaN', 'NaN', 'NaN'], ['21', 'NaN', '10', 'NaN', 'NaN', 'NaN', 'NaN', 'NaN', 'NaN', 'NaN', 'NaN', 'NaN', 'NaN', 'NaN', 'NaN', 'NaN', 'NaN', 'NaN', 'NaN', 'NaN'], ['23', 'NaN', 'NaN', 'NaN', 'NaN', 'NaN', 'NaN', 'NaN', 'NaN', 'NaN', 'NaN', 'NaN', 'NaN', 'NaN', '9', 'NaN', '7', 'NaN', 'NaN', 'NaN'], ['24', 'NaN', 'NaN', 'NaN', 'NaN', 'NaN', 'NaN', 'NaN', 'NaN', 'NaN', 'NaN', 'NaN', 'NaN', 'NaN', '8', '9', '10', 'NaN', '10', '1'], ['22', '10', 'NaN', 'NaN', 'NaN', 'NaN', 'NaN', 'NaN', 'NaN', 'NaN', 'NaN', 'NaN', 'NaN', 'NaN', 'NaN', 'NaN', 'NaN', 'NaN', 'NaN', 'NaN'], ['90', 'NaN', '9', 'NaN', 'NaN', 'NaN', 'NaN', 'NaN', '0', 'NaN', 'NaN', 'NaN', 'NaN', 'NaN', 'NaN', 'NaN', 'NaN', 'NaN', 'NaN', 'NaN'], ['91', 'NaN', 'NaN', 'NaN', 'NaN', 'NaN', '10', 'NaN', 'NaN', 'NaN', 'NaN', 'NaN', 'NaN', 'NaN', 'NaN', 'NaN', '9', 'NaN', 'NaN', 'NaN'], ['33', 'NaN', 'NaN', 'NaN', 'NaN', 'NaN', 'NaN', 'NaN', 'NaN', 'NaN', 'NaN', 'NaN', 'NaN', 'NaN', 'NaN', 'NaN', 'NaN', 'NaN', 'NaN', '8']]\n"
     ]
    }
   ],
   "source": [
    "print(reviews_data)"
   ]
  },
  {
   "cell_type": "code",
   "execution_count": null,
   "id": "940dd00c",
   "metadata": {},
   "outputs": [],
   "source": []
  }
 ],
 "metadata": {
  "kernelspec": {
   "display_name": "Python 3 (ipykernel)",
   "language": "python",
   "name": "python3"
  },
  "language_info": {
   "codemirror_mode": {
    "name": "ipython",
    "version": 3
   },
   "file_extension": ".py",
   "mimetype": "text/x-python",
   "name": "python",
   "nbconvert_exporter": "python",
   "pygments_lexer": "ipython3",
   "version": "3.10.4"
  }
 },
 "nbformat": 4,
 "nbformat_minor": 5
}
