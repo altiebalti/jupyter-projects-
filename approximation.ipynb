{
 "cells": [
  {
   "cell_type": "code",
   "execution_count": 34,
   "id": "74a687be",
   "metadata": {},
   "outputs": [],
   "source": [
    "import numpy as np\n",
    "import matplotlib.pyplot as plt"
   ]
  },
  {
   "cell_type": "code",
   "execution_count": 35,
   "id": "cf5a46ff",
   "metadata": {},
   "outputs": [],
   "source": [
    "def f(x):\n",
    "    return np.cos(np.sin(x))"
   ]
  },
  {
   "cell_type": "code",
   "execution_count": 36,
   "id": "e4f44bd1",
   "metadata": {},
   "outputs": [],
   "source": [
    "def findDerivative(f, x0, dx =0.00001):\n",
    "    return (f(x0+dx) - f(x0))/dx"
   ]
  },
  {
   "cell_type": "code",
   "execution_count": 39,
   "id": "e74cbc26",
   "metadata": {},
   "outputs": [],
   "source": [
    "def f1(x, x0):\n",
    "    return (f(x0) + findDerivative(f,x0) * (x-x0))"
   ]
  },
  {
   "cell_type": "code",
   "execution_count": 41,
   "id": "e58db721",
   "metadata": {
    "scrolled": true
   },
   "outputs": [
    {
     "data": {
      "text/plain": [
       "[<matplotlib.lines.Line2D at 0x2de7cb4f460>]"
      ]
     },
     "execution_count": 41,
     "metadata": {},
     "output_type": "execute_result"
    },
    {
     "data": {
      "image/png": "[encoded data removed]",
      "text/plain": [
       "<Figure size 432x288 with 1 Axes>"
      ]
     },
     "metadata": {
      "needs_background": "light"
     },
     "output_type": "display_data"
    },
    {
     "data": {
      "text/plain": [
       "<Figure size 720x360 with 0 Axes>"
      ]
     },
     "metadata": {},
     "output_type": "display_data"
    }
   ],
   "source": [
    "x = np.linspace(-5,5,100)\n",
    "y = f(x)\n",
    "y1 = f1(x, 1)\n",
    "fig, ax = plt.subplots()\n",
    "plt.axvline(x=0, color='black')\n",
    "plt.figure(figsize=(10, 5))\n",
    "ax.plot(x,y, color = 'red')\n",
    "ax.plot(x,y1, color = 'blue')"
   ]
  },
  {
   "cell_type": "code",
   "execution_count": null,
   "id": "d955fbdf",
   "metadata": {},
   "outputs": [],
   "source": []
  }
 ],
 "metadata": {
  "kernelspec": {
   "display_name": "Python 3 (ipykernel)",
   "language": "python",
   "name": "python3"
  },
  "language_info": {
   "codemirror_mode": {
    "name": "ipython",
    "version": 3
   },
   "file_extension": ".py",
   "mimetype": "text/x-python",
   "name": "python",
   "nbconvert_exporter": "python",
   "pygments_lexer": "ipython3",
   "version": "3.10.4"
  }
 },
 "nbformat": 4,
 "nbformat_minor": 5
}
