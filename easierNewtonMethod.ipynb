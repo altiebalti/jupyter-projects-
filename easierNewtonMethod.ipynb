{
 "cells": [
  {
   "cell_type": "code",
   "execution_count": 1,
   "id": "962d9c69",
   "metadata": {},
   "outputs": [],
   "source": [
    "import numpy as np\n",
    "import matplotlib.pyplot as plt"
   ]
  },
  {
   "cell_type": "code",
   "execution_count": 2,
   "id": "220230ab",
   "metadata": {},
   "outputs": [],
   "source": [
    "def findDerivative(f, x0, dx = 0.00001): # \n",
    "    return (f(x0+dx)-f(x0))/dx"
   ]
  },
  {
   "cell_type": "code",
   "execution_count": 33,
   "id": "c816a55c",
   "metadata": {},
   "outputs": [],
   "source": [
    "def f(x):\n",
    "    return x**3     # 3x**2 - 1"
   ]
  },
  {
   "cell_type": "code",
   "execution_count": 34,
   "id": "fb21042f",
   "metadata": {},
   "outputs": [],
   "source": [
    "def findRootByNewton(f, x0, eps = 0.0001, maxiter = 100000):\n",
    "    der = findDerivative(f, x0)\n",
    "    xn = x0\n",
    "    i = 0\n",
    "    while eps < abs(f(xn)) and i < maxiter:\n",
    "        xn = xn - f(xn)/der\n",
    "        i+=1\n",
    "    return xn"
   ]
  },
  {
   "cell_type": "code",
   "execution_count": 35,
   "id": "1f78cb61",
   "metadata": {},
   "outputs": [],
   "source": [
    "b = 2"
   ]
  },
  {
   "cell_type": "code",
   "execution_count": 36,
   "id": "8eb9e7b3",
   "metadata": {},
   "outputs": [
    {
     "data": {
      "text/plain": [
       "0.04641125173392443"
      ]
     },
     "execution_count": 36,
     "metadata": {},
     "output_type": "execute_result"
    },
    {
     "data": {
      "image/png": "[encoded data removed]",
      "text/plain": [
       "<Figure size 432x288 with 1 Axes>"
      ]
     },
     "metadata": {
      "needs_background": "light"
     },
     "output_type": "display_data"
    }
   ],
   "source": [
    "xn = findRootByNewton(f, b)\n",
    "x = np.linspace(-b , b, 100)\n",
    "y = f(x)\n",
    "fig, ax = plt.subplots()\n",
    "plt.axvline(x = xn, color = 'green')\n",
    "plt.axhline(y = 0, color = 'black')\n",
    "ax.plot(x,y)\n",
    "xn"
   ]
  },
  {
   "cell_type": "code",
   "execution_count": null,
   "id": "96cf384e",
   "metadata": {},
   "outputs": [],
   "source": []
  },
  {
   "cell_type": "code",
   "execution_count": null,
   "id": "3514f366",
   "metadata": {},
   "outputs": [],
   "source": []
  }
 ],
 "metadata": {
  "kernelspec": {
   "display_name": "Python 3 (ipykernel)",
   "language": "python",
   "name": "python3"
  },
  "language_info": {
   "codemirror_mode": {
    "name": "ipython",
    "version": 3
   },
   "file_extension": ".py",
   "mimetype": "text/x-python",
   "name": "python",
   "nbconvert_exporter": "python",
   "pygments_lexer": "ipython3",
   "version": "3.10.4"
  }
 },
 "nbformat": 4,
 "nbformat_minor": 5
}
