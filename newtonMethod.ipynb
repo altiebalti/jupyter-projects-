{
 "cells": [
  {
   "cell_type": "code",
   "execution_count": 4,
   "id": "e3577a30-fb6a-4b3c-903f-55e17c395d5d",
   "metadata": {},
   "outputs": [],
   "source": [
    "import numpy as np\n",
    "import matplotlib.pyplot as plt"
   ]
  },
  {
   "cell_type": "code",
   "execution_count": 5,
   "id": "d67603ff-4b9d-4e16-8cc4-29f6d82650fa",
   "metadata": {},
   "outputs": [],
   "source": [
    "def f(x):\n",
    "    return x**3 + 2 - x"
   ]
  },
  {
   "cell_type": "code",
   "execution_count": 6,
   "id": "15dc5db8-1ec5-4fdc-98b8-6512296e8a3f",
   "metadata": {},
   "outputs": [],
   "source": [
    "def findDerivative(f, x0, dx = 0.00001): # \n",
    "    return (f(x0+dx)-f(x0))/dx"
   ]
  },
  {
   "cell_type": "code",
   "execution_count": 7,
   "id": "bff90d7b-d770-41a2-aee7-612db5a0ae66",
   "metadata": {},
   "outputs": [],
   "source": [
    "def findRootByNewton(f, x0, eps = 0.0001, maxiter = 1000):\n",
    "    xn = x0\n",
    "    i = 0\n",
    "    while eps < abs(f(xn)) and i < maxiter:\n",
    "        xn = xn - f(xn)/findDerivative(f, xn)\n",
    "        i+=1\n",
    "    return xn"
   ]
  },
  {
   "cell_type": "code",
   "execution_count": 19,
   "id": "318b9ee9-7450-4865-8f6d-7f57e6dc2dd3",
   "metadata": {},
   "outputs": [],
   "source": [
    "a = 2\n",
    "b = 4"
   ]
  },
  {
   "cell_type": "code",
   "execution_count": 20,
   "id": "10e1da84-3e7f-4136-a702-8d16208c7eed",
   "metadata": {},
   "outputs": [
    {
     "data": {
      "text/plain": [
       "-1.5213801806499008"
      ]
     },
     "execution_count": 20,
     "metadata": {},
     "output_type": "execute_result"
    },
    {
     "data": {
      "image/png": "[encoded data removed]",
      "text/plain": [
       "<Figure size 432x288 with 1 Axes>"
      ]
     },
     "metadata": {
      "needs_background": "light"
     },
     "output_type": "display_data"
    }
   ],
   "source": [
    "xn = findRootByNewton(f, b)\n",
    "x = np.linspace(a,b, 100)\n",
    "y = f(x)\n",
    "fig, ax = plt.subplots()\n",
    "plt.axvline(x = xn, color = 'green')\n",
    "plt.axhline(y = 0, color = 'black')\n",
    "ax.plot(x,y)\n",
    "xn"
   ]
  },
  {
   "cell_type": "code",
   "execution_count": null,
   "id": "2a97cd0d-c1c4-4caa-bf2e-34a136d8fc5c",
   "metadata": {},
   "outputs": [],
   "source": []
  },
  {
   "cell_type": "code",
   "execution_count": null,
   "id": "ff287e0c-7a5b-4323-8085-0e2ab93156e9",
   "metadata": {},
   "outputs": [],
   "source": []
  }
 ],
 "metadata": {
  "kernelspec": {
   "display_name": "Python 3 (ipykernel)",
   "language": "python",
   "name": "python3"
  },
  "language_info": {
   "codemirror_mode": {
    "name": "ipython",
    "version": 3
   },
   "file_extension": ".py",
   "mimetype": "text/x-python",
   "name": "python",
   "nbconvert_exporter": "python",
   "pygments_lexer": "ipython3",
   "version": "3.10.4"
  }
 },
 "nbformat": 4,
 "nbformat_minor": 5
}
